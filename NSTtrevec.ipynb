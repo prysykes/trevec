{
  "nbformat": 4,
  "nbformat_minor": 0,
  "metadata": {
    "colab": {
      "provenance": [],
      "mount_file_id": "1Ei-gEGbgOmM76G3tqhGSvweg_71fjZb0",
      "authorship_tag": "ABX9TyPqILQeY5D7LbyzXWB8rMvI",
      "include_colab_link": true
    },
    "kernelspec": {
      "name": "python3",
      "display_name": "Python 3"
    },
    "language_info": {
      "name": "python"
    }
  },
  "cells": [
    {
      "cell_type": "markdown",
      "metadata": {
        "id": "view-in-github",
        "colab_type": "text"
      },
      "source": [
        "<a href=\"https://colab.research.google.com/github/prysykes/trevec/blob/main/NSTtrevec.ipynb\" target=\"_parent\"><img src=\"https://colab.research.google.com/assets/colab-badge.svg\" alt=\"Open In Colab\"/></a>"
      ]
    },
    {
      "cell_type": "code",
      "execution_count": 48,
      "metadata": {
        "colab": {
          "base_uri": "https://localhost:8080/"
        },
        "id": "w3qTwEt6njgH",
        "outputId": "1de3fdcc-153b-4a53-f663-47e96a242a60"
      },
      "outputs": [
        {
          "output_type": "stream",
          "name": "stdout",
          "text": [
            "Collecting sentence-transformers\n",
            "  Downloading sentence-transformers-2.2.2.tar.gz (85 kB)\n",
            "\u001b[?25l     \u001b[90m━━━━━━━━━━━━━━━━━━━━━━━━━━━━━━━━━━━━━━━━\u001b[0m \u001b[32m0.0/86.0 kB\u001b[0m \u001b[31m?\u001b[0m eta \u001b[36m-:--:--\u001b[0m\r\u001b[2K     \u001b[91m━━━━━━━━━━━━━━━━━━━━━━━━━━━━━━━━━━━━━━\u001b[0m\u001b[90m╺\u001b[0m\u001b[90m━\u001b[0m \u001b[32m81.9/86.0 kB\u001b[0m \u001b[31m2.3 MB/s\u001b[0m eta \u001b[36m0:00:01\u001b[0m\r\u001b[2K     \u001b[90m━━━━━━━━━━━━━━━━━━━━━━━━━━━━━━━━━━━━━━━━\u001b[0m \u001b[32m86.0/86.0 kB\u001b[0m \u001b[31m2.0 MB/s\u001b[0m eta \u001b[36m0:00:00\u001b[0m\n",
            "\u001b[?25h  Preparing metadata (setup.py) ... \u001b[?25l\u001b[?25hdone\n",
            "Collecting transformers<5.0.0,>=4.6.0 (from sentence-transformers)\n",
            "  Downloading transformers-4.35.0-py3-none-any.whl (7.9 MB)\n",
            "\u001b[2K     \u001b[90m━━━━━━━━━━━━━━━━━━━━━━━━━━━━━━━━━━━━━━━━\u001b[0m \u001b[32m7.9/7.9 MB\u001b[0m \u001b[31m49.7 MB/s\u001b[0m eta \u001b[36m0:00:00\u001b[0m\n",
            "\u001b[?25hRequirement already satisfied: tqdm in /usr/local/lib/python3.10/dist-packages (from sentence-transformers) (4.66.1)\n",
            "Requirement already satisfied: torch>=1.6.0 in /usr/local/lib/python3.10/dist-packages (from sentence-transformers) (2.1.0+cu118)\n",
            "Requirement already satisfied: torchvision in /usr/local/lib/python3.10/dist-packages (from sentence-transformers) (0.16.0+cu118)\n",
            "Requirement already satisfied: numpy in /usr/local/lib/python3.10/dist-packages (from sentence-transformers) (1.23.5)\n",
            "Requirement already satisfied: scikit-learn in /usr/local/lib/python3.10/dist-packages (from sentence-transformers) (1.2.2)\n",
            "Requirement already satisfied: scipy in /usr/local/lib/python3.10/dist-packages (from sentence-transformers) (1.11.3)\n",
            "Requirement already satisfied: nltk in /usr/local/lib/python3.10/dist-packages (from sentence-transformers) (3.8.1)\n",
            "Collecting sentencepiece (from sentence-transformers)\n",
            "  Downloading sentencepiece-0.1.99-cp310-cp310-manylinux_2_17_x86_64.manylinux2014_x86_64.whl (1.3 MB)\n",
            "\u001b[2K     \u001b[90m━━━━━━━━━━━━━━━━━━━━━━━━━━━━━━━━━━━━━━━━\u001b[0m \u001b[32m1.3/1.3 MB\u001b[0m \u001b[31m70.7 MB/s\u001b[0m eta \u001b[36m0:00:00\u001b[0m\n",
            "\u001b[?25hCollecting huggingface-hub>=0.4.0 (from sentence-transformers)\n",
            "  Downloading huggingface_hub-0.18.0-py3-none-any.whl (301 kB)\n",
            "\u001b[2K     \u001b[90m━━━━━━━━━━━━━━━━━━━━━━━━━━━━━━━━━━━━━━━━\u001b[0m \u001b[32m302.0/302.0 kB\u001b[0m \u001b[31m36.8 MB/s\u001b[0m eta \u001b[36m0:00:00\u001b[0m\n",
            "\u001b[?25hRequirement already satisfied: filelock in /usr/local/lib/python3.10/dist-packages (from huggingface-hub>=0.4.0->sentence-transformers) (3.12.4)\n",
            "Requirement already satisfied: fsspec>=2023.5.0 in /usr/local/lib/python3.10/dist-packages (from huggingface-hub>=0.4.0->sentence-transformers) (2023.6.0)\n",
            "Requirement already satisfied: requests in /usr/local/lib/python3.10/dist-packages (from huggingface-hub>=0.4.0->sentence-transformers) (2.31.0)\n",
            "Requirement already satisfied: pyyaml>=5.1 in /usr/local/lib/python3.10/dist-packages (from huggingface-hub>=0.4.0->sentence-transformers) (6.0.1)\n",
            "Requirement already satisfied: typing-extensions>=3.7.4.3 in /usr/local/lib/python3.10/dist-packages (from huggingface-hub>=0.4.0->sentence-transformers) (4.5.0)\n",
            "Requirement already satisfied: packaging>=20.9 in /usr/local/lib/python3.10/dist-packages (from huggingface-hub>=0.4.0->sentence-transformers) (23.2)\n",
            "Requirement already satisfied: sympy in /usr/local/lib/python3.10/dist-packages (from torch>=1.6.0->sentence-transformers) (1.12)\n",
            "Requirement already satisfied: networkx in /usr/local/lib/python3.10/dist-packages (from torch>=1.6.0->sentence-transformers) (3.2)\n",
            "Requirement already satisfied: jinja2 in /usr/local/lib/python3.10/dist-packages (from torch>=1.6.0->sentence-transformers) (3.1.2)\n",
            "Requirement already satisfied: triton==2.1.0 in /usr/local/lib/python3.10/dist-packages (from torch>=1.6.0->sentence-transformers) (2.1.0)\n",
            "Requirement already satisfied: regex!=2019.12.17 in /usr/local/lib/python3.10/dist-packages (from transformers<5.0.0,>=4.6.0->sentence-transformers) (2023.6.3)\n",
            "Collecting tokenizers<0.15,>=0.14 (from transformers<5.0.0,>=4.6.0->sentence-transformers)\n",
            "  Downloading tokenizers-0.14.1-cp310-cp310-manylinux_2_17_x86_64.manylinux2014_x86_64.whl (3.8 MB)\n",
            "\u001b[2K     \u001b[90m━━━━━━━━━━━━━━━━━━━━━━━━━━━━━━━━━━━━━━━━\u001b[0m \u001b[32m3.8/3.8 MB\u001b[0m \u001b[31m57.4 MB/s\u001b[0m eta \u001b[36m0:00:00\u001b[0m\n",
            "\u001b[?25hCollecting safetensors>=0.3.1 (from transformers<5.0.0,>=4.6.0->sentence-transformers)\n",
            "  Downloading safetensors-0.4.0-cp310-cp310-manylinux_2_17_x86_64.manylinux2014_x86_64.whl (1.3 MB)\n",
            "\u001b[2K     \u001b[90m━━━━━━━━━━━━━━━━━━━━━━━━━━━━━━━━━━━━━━━━\u001b[0m \u001b[32m1.3/1.3 MB\u001b[0m \u001b[31m78.3 MB/s\u001b[0m eta \u001b[36m0:00:00\u001b[0m\n",
            "\u001b[?25hRequirement already satisfied: click in /usr/local/lib/python3.10/dist-packages (from nltk->sentence-transformers) (8.1.7)\n",
            "Requirement already satisfied: joblib in /usr/local/lib/python3.10/dist-packages (from nltk->sentence-transformers) (1.3.2)\n",
            "Requirement already satisfied: threadpoolctl>=2.0.0 in /usr/local/lib/python3.10/dist-packages (from scikit-learn->sentence-transformers) (3.2.0)\n",
            "Requirement already satisfied: pillow!=8.3.*,>=5.3.0 in /usr/local/lib/python3.10/dist-packages (from torchvision->sentence-transformers) (9.4.0)\n",
            "Collecting huggingface-hub>=0.4.0 (from sentence-transformers)\n",
            "  Downloading huggingface_hub-0.17.3-py3-none-any.whl (295 kB)\n",
            "\u001b[2K     \u001b[90m━━━━━━━━━━━━━━━━━━━━━━━━━━━━━━━━━━━━━━━━\u001b[0m \u001b[32m295.0/295.0 kB\u001b[0m \u001b[31m26.3 MB/s\u001b[0m eta \u001b[36m0:00:00\u001b[0m\n",
            "\u001b[?25hRequirement already satisfied: MarkupSafe>=2.0 in /usr/local/lib/python3.10/dist-packages (from jinja2->torch>=1.6.0->sentence-transformers) (2.1.3)\n",
            "Requirement already satisfied: charset-normalizer<4,>=2 in /usr/local/lib/python3.10/dist-packages (from requests->huggingface-hub>=0.4.0->sentence-transformers) (3.3.1)\n",
            "Requirement already satisfied: idna<4,>=2.5 in /usr/local/lib/python3.10/dist-packages (from requests->huggingface-hub>=0.4.0->sentence-transformers) (3.4)\n",
            "Requirement already satisfied: urllib3<3,>=1.21.1 in /usr/local/lib/python3.10/dist-packages (from requests->huggingface-hub>=0.4.0->sentence-transformers) (2.0.7)\n",
            "Requirement already satisfied: certifi>=2017.4.17 in /usr/local/lib/python3.10/dist-packages (from requests->huggingface-hub>=0.4.0->sentence-transformers) (2023.7.22)\n",
            "Requirement already satisfied: mpmath>=0.19 in /usr/local/lib/python3.10/dist-packages (from sympy->torch>=1.6.0->sentence-transformers) (1.3.0)\n",
            "Building wheels for collected packages: sentence-transformers\n",
            "  Building wheel for sentence-transformers (setup.py) ... \u001b[?25l\u001b[?25hdone\n",
            "  Created wheel for sentence-transformers: filename=sentence_transformers-2.2.2-py3-none-any.whl size=125923 sha256=fcf6449214f3bb434a253de721a82e0a2441f67094a29dcf6f180e9943ede4fb\n",
            "  Stored in directory: /root/.cache/pip/wheels/62/f2/10/1e606fd5f02395388f74e7462910fe851042f97238cbbd902f\n",
            "Successfully built sentence-transformers\n",
            "Installing collected packages: sentencepiece, safetensors, huggingface-hub, tokenizers, transformers, sentence-transformers\n",
            "Successfully installed huggingface-hub-0.17.3 safetensors-0.4.0 sentence-transformers-2.2.2 sentencepiece-0.1.99 tokenizers-0.14.1 transformers-4.35.0\n"
          ]
        }
      ],
      "source": [
        "!pip install opencv-python\n",
        "!pip install opencv-python-headless\n",
        "!pip install matplotlib\n",
        "!pip install tf-models-official\n",
        "!pip install tqdm\n",
        "!pip install nltk\n",
        "!pip install -U sentence-transformers"
      ]
    },
    {
      "cell_type": "code",
      "source": [
        "import tensorflow as tf\n",
        "# import tqdm\n",
        "import random\n",
        "import pathlib\n",
        "import itertools\n",
        "import collections\n",
        "\n",
        "import os\n",
        "import glob\n",
        "import cv2\n",
        "import numpy as np\n",
        "# import remotezip as rz\n",
        "\n",
        "import tensorflow as tf\n",
        "import tensorflow_hub as hub\n",
        "import nltk\n",
        "nltk.download('wordnet')\n",
        "#modules to display animation using imageio\n",
        "# import imageio\n",
        "# from IPython import display\n",
        "# from urllib import request\n",
        "# from tensorflow_docs.vis import embed"
      ],
      "metadata": {
        "id": "WvoGhudZojKk",
        "colab": {
          "base_uri": "https://localhost:8080/"
        },
        "outputId": "d17a0d08-3d64-4171-e37f-d217765c0ddb"
      },
      "execution_count": 1,
      "outputs": [
        {
          "output_type": "stream",
          "name": "stderr",
          "text": [
            "[nltk_data] Downloading package wordnet to /root/nltk_data...\n"
          ]
        },
        {
          "output_type": "execute_result",
          "data": {
            "text/plain": [
              "True"
            ]
          },
          "metadata": {},
          "execution_count": 1
        }
      ]
    },
    {
      "cell_type": "code",
      "source": [
        "trevec_vids = '/content/trevec_videos'\n",
        "print(os.path.isdir(trevec_vids))"
      ],
      "metadata": {
        "colab": {
          "base_uri": "https://localhost:8080/"
        },
        "id": "HGIR_jZKpInM",
        "outputId": "b2e40ff5-4b0f-42e1-c615-67cbb07f37d1"
      },
      "execution_count": 2,
      "outputs": [
        {
          "output_type": "stream",
          "name": "stdout",
          "text": [
            "True\n"
          ]
        }
      ]
    },
    {
      "cell_type": "code",
      "source": [
        "# pathh = trevec_vids\n",
        "\n",
        "# for parent, dirs, files in os.walk(pathh, topdown=False):\n",
        "#   for file in files:\n",
        "#     file_path = os.path.join(parent, file)\n",
        "#     os.remove(file_path)\n",
        "#   for dir in dirs:\n",
        "#     dir_path = os.path.join(parent, dir)\n",
        "#     os.rmdir(dir_path)\n"
      ],
      "metadata": {
        "id": "9Ji41Y3kt24G"
      },
      "execution_count": null,
      "outputs": []
    },
    {
      "cell_type": "code",
      "source": [
        "import sys\n",
        "print(sys.version)\n",
        "print(tf.__version__)"
      ],
      "metadata": {
        "colab": {
          "base_uri": "https://localhost:8080/"
        },
        "id": "IjEnJMfTpebp",
        "outputId": "50303cd5-a35a-4505-baa8-7539dc32b6c5"
      },
      "execution_count": 3,
      "outputs": [
        {
          "output_type": "stream",
          "name": "stdout",
          "text": [
            "3.10.12 (main, Jun 11 2023, 05:26:28) [GCC 11.4.0]\n",
            "2.14.0\n"
          ]
        }
      ]
    },
    {
      "cell_type": "code",
      "source": [
        "def format_frame_size(frame, output_size):\n",
        "    \"\"\"\n",
        "        Function to Pad and resize a frame from a video\n",
        "        Args:\n",
        "            Frame: An image that needs resizing or padding\n",
        "            output_size: A tupple of width and height Required pixel size of the padded image\n",
        "        Return:\n",
        "            A frame formatted according to the output size\n",
        "    \"\"\"\n",
        "    frame = tf.image.convert_image_dtype(frame, tf.float32)\n",
        "    frame = tf.image.resize_with_pad(frame, *output_size)\n",
        "    return frame"
      ],
      "metadata": {
        "id": "4yJkWWZbppSA"
      },
      "execution_count": 4,
      "outputs": []
    },
    {
      "cell_type": "code",
      "source": [
        "def frames_from_video_file(video_path, n_frames, output_size=(224, 224), frame_step=10):\n",
        "    \"\"\"\n",
        "        Creates frames from a video file\n",
        "        Args:\n",
        "            video_path: path to the video file\n",
        "            n_frames: Number of frames to be created per video\n",
        "            output_size = size of the output_frame\n",
        "        return:\n",
        "            An NumPy array of frames in the shape (n_frames, height, width, channels)\n",
        "    \"\"\"\n",
        "    results = []\n",
        "    src = cv2.VideoCapture(str(video_path))\n",
        "    file_name = video_path.split('/')[-1]\n",
        "    video_length = src.get(cv2.CAP_PROP_FRAME_COUNT) # total frames in video\n",
        "    # print(\"video_length\", video_length)\n",
        "    need_length = 1 + (n_frames - 1) * frame_step\n",
        "    # print(\"need_length\", need_length)\n",
        "\n",
        "    if need_length > video_length:\n",
        "        #if the total frames in the vid is\n",
        "        #shorter than the needed lenght\n",
        "        #no need for the offset, start reading at 0\n",
        "        start = 0\n",
        "    else:\n",
        "        max_start = video_length - need_length\n",
        "        start = random.randint(0, max_start +1)\n",
        "    src.set(cv2.CAP_PROP_POS_FRAMES, start)\n",
        "    ret, frame = src.read()\n",
        "    #read first frame before skipping by frame_step\n",
        "    results.append(format_frame_size(frame, output_size))\n",
        "\n",
        "    #n_frames-1 bc we read the 1st frame already\n",
        "    for _ in range(n_frames - 1):\n",
        "        # this loop returns the last frame referenced by the frame step\n",
        "        # in effect, it it reads frames that are frame_step apart\n",
        "        for _ in range(frame_step):\n",
        "            ret, frame = src.read()\n",
        "        if ret:\n",
        "            frame = format_frame_size(frame, output_size)\n",
        "            results.append(frame)\n",
        "        else:\n",
        "            #saves a numpy array of all zeros of shape frame.shape\n",
        "            frame = np.zeros_like(results[0])\n",
        "            results.append(frame)\n",
        "\n",
        "    src.release()\n",
        "    results = np.array(results)[..., [2, 1, 0]]\n",
        "    return results\n",
        "\n",
        "\n",
        "\n"
      ],
      "metadata": {
        "id": "GiHT-wd_pvjI"
      },
      "execution_count": 5,
      "outputs": []
    },
    {
      "cell_type": "code",
      "source": [
        "video_paths = glob.glob(f\"{trevec_vids}/*\")\n",
        "# x = video_paths[0]\n",
        "# num_part = int(x.split('/')[-1].split('.')[0])\n",
        "# print(num_part)\n",
        "print(type(video_paths))\n",
        "#sort video according to file number\n",
        "#sort video according to the file name\n",
        "video_paths = sorted(video_paths, key=lambda x: int(x.split('/')[-1].split('.')[0]))\n"
      ],
      "metadata": {
        "id": "h7hSbqeApxbf",
        "colab": {
          "base_uri": "https://localhost:8080/"
        },
        "outputId": "50cb2560-d4f7-44b4-b779-203be7371728"
      },
      "execution_count": 9,
      "outputs": [
        {
          "output_type": "stream",
          "name": "stdout",
          "text": [
            "<class 'list'>\n"
          ]
        }
      ]
    },
    {
      "cell_type": "code",
      "source": [
        "n = 0\n",
        "for file in video_paths:\n",
        "    if n > 2:\n",
        "        break\n",
        "    print(file)\n",
        "    n +=1"
      ],
      "metadata": {
        "colab": {
          "base_uri": "https://localhost:8080/"
        },
        "id": "DS7RaqEip1Z4",
        "outputId": "4ae5a13f-1ca8-4c8f-ea5c-7ae14ac1e197"
      },
      "execution_count": 10,
      "outputs": [
        {
          "output_type": "stream",
          "name": "stdout",
          "text": [
            "/content/trevec_videos/1.webm\n",
            "/content/trevec_videos/2.webm\n",
            "/content/trevec_videos/3.webm\n"
          ]
        }
      ]
    },
    {
      "cell_type": "code",
      "source": [
        "trevec_sample_vid = frames_from_video_file(video_paths[0], 20)"
      ],
      "metadata": {
        "id": "XAgADaAap5wA"
      },
      "execution_count": 11,
      "outputs": []
    },
    {
      "cell_type": "code",
      "source": [
        "%matplotlib inline\n",
        "import matplotlib.pyplot as plt"
      ],
      "metadata": {
        "id": "x2UrCUsTqBl9"
      },
      "execution_count": 12,
      "outputs": []
    },
    {
      "cell_type": "code",
      "source": [
        "plt.imshow(trevec_sample_vid[0], interpolation='nearest')\n",
        "plt.show()"
      ],
      "metadata": {
        "colab": {
          "base_uri": "https://localhost:8080/",
          "height": 434
        },
        "id": "Hqhsx-gxqDtd",
        "outputId": "7e8d89a2-c031-4944-f153-7b27e8f6078b"
      },
      "execution_count": 13,
      "outputs": [
        {
          "output_type": "display_data",
          "data": {
            "text/plain": [
              "<Figure size 640x480 with 1 Axes>"
            ],
            "image/png": "[encoded data removed]"
          },
          "metadata": {}
        }
      ]
    },
    {
      "cell_type": "code",
      "source": [
        "plt.show()"
      ],
      "metadata": {
        "id": "NyiggMooTPI7"
      },
      "execution_count": 14,
      "outputs": []
    },
    {
      "cell_type": "code",
      "source": [
        "class FrameGenerator:\n",
        "    def __init__(self, video_paths, n_frames, training=False):\n",
        "        \"\"\"\n",
        "            Returns a set of frames from a video in the video_paths list\n",
        "\n",
        "            Args:\n",
        "            video_paths: a list of path to videos\n",
        "            n_frames: Number of frames\n",
        "            training: A boolean to determine if a training dataset should be created\n",
        "        \"\"\"\n",
        "\n",
        "        self.video_paths = video_paths\n",
        "        self.n_frames = n_frames\n",
        "        self.training = training\n",
        "\n",
        "    def __call__(self):\n",
        "        \"\"\"\n",
        "            gets called and yields a set of frames\n",
        "            each the the instance of the class is called\n",
        "        \"\"\"\n",
        "        video_paths = self.video_paths\n",
        "        # print(type(video_paths))\n",
        "        if self.training:\n",
        "            random.shuffle(video_paths)\n",
        "\n",
        "        for path in video_paths:\n",
        "            video_frames = frames_from_video_file(path, self.n_frames)\n",
        "            file_name = path.split('/')[-1]\n",
        "            # print(file_name, \"filfile\")\n",
        "            yield video_frames, file_name"
      ],
      "metadata": {
        "id": "2U-utFc8ql-w"
      },
      "execution_count": 15,
      "outputs": []
    },
    {
      "cell_type": "code",
      "source": [
        "fg = FrameGenerator(video_paths, 20, training=False)\n",
        "\n"
      ],
      "metadata": {
        "id": "fezUnxAVqom2"
      },
      "execution_count": 16,
      "outputs": []
    },
    {
      "cell_type": "code",
      "source": [
        "frames = next(iter(fg()))"
      ],
      "metadata": {
        "id": "HVqKzifhqqdq"
      },
      "execution_count": 17,
      "outputs": []
    },
    {
      "cell_type": "code",
      "source": [
        "frames[0].shape\n",
        "print(frames[1])"
      ],
      "metadata": {
        "colab": {
          "base_uri": "https://localhost:8080/"
        },
        "id": "WWa2cfPCqu_g",
        "outputId": "24a83839-20e2-42c5-88c4-7ba2d5c085db"
      },
      "execution_count": 18,
      "outputs": [
        {
          "output_type": "stream",
          "name": "stdout",
          "text": [
            "1.webm\n"
          ]
        }
      ]
    },
    {
      "cell_type": "code",
      "source": [
        "output_signature = (tf.TensorSpec(shape = (None, None, None, 3), dtype=tf.float32), tf.TensorSpec(shape = None, dtype=tf.string))\n",
        "\n",
        "dataset = tf.data.Dataset.from_generator(FrameGenerator(video_paths, 20, training=False), output_signature=output_signature)"
      ],
      "metadata": {
        "id": "GXrXw1odqye_"
      },
      "execution_count": 19,
      "outputs": []
    },
    {
      "cell_type": "code",
      "source": [
        "BATCH_SIZE =2"
      ],
      "metadata": {
        "id": "NI0FHXCLwUV_"
      },
      "execution_count": 20,
      "outputs": []
    },
    {
      "cell_type": "code",
      "source": [
        "inference_datasets = dataset.batch(BATCH_SIZE)"
      ],
      "metadata": {
        "id": "887tinQNq1Mi"
      },
      "execution_count": 21,
      "outputs": []
    },
    {
      "cell_type": "code",
      "source": [
        "sample_inference_dataset = next(iter(inference_datasets))\n",
        "#return a tupple containing a numpy array of frames belonging to each video with size of BATCH_SIZE\n",
        "# and a list of their corresponding file name\n",
        "\n"
      ],
      "metadata": {
        "id": "EbiSN_3Ru6Qa"
      },
      "execution_count": 22,
      "outputs": []
    },
    {
      "cell_type": "code",
      "source": [
        "print(\"len(sample_inference_dataset)\", len(sample_inference_dataset))\n",
        "print(\"sample_inference_dataset[0].shape\", sample_inference_dataset[0].shape)\n",
        "print(\"sample_inference_dataset[1]\", (sample_inference_dataset[1]))\n",
        "print(\"sample_inference_dataset[0][0] shape\", (sample_inference_dataset[0][0].shape))\n",
        "# tf_string = tf.constant(sample_inference_dataset[1][0])\n",
        "string_value = sample_inference_dataset[1][0].numpy().decode('utf-8')\n",
        "print(\"sample_inference_dataset[1][0]\", string_value)"
      ],
      "metadata": {
        "colab": {
          "base_uri": "https://localhost:8080/"
        },
        "id": "1TZVRRlA2fb6",
        "outputId": "2801b6fa-cd6d-4434-96d6-e613f5639f13"
      },
      "execution_count": 23,
      "outputs": [
        {
          "output_type": "stream",
          "name": "stdout",
          "text": [
            "len(sample_inference_dataset) 2\n",
            "sample_inference_dataset[0].shape (2, 20, 224, 224, 3)\n",
            "sample_inference_dataset[1] tf.Tensor([b'1.webm' b'2.webm'], shape=(2,), dtype=string)\n",
            "sample_inference_dataset[0][0] shape (20, 224, 224, 3)\n",
            "sample_inference_dataset[1][0] 1.webm\n"
          ]
        }
      ]
    },
    {
      "cell_type": "code",
      "source": [
        "for idx in range(len(sample_inference_dataset[0])):\n",
        "  print(idx)"
      ],
      "metadata": {
        "colab": {
          "base_uri": "https://localhost:8080/"
        },
        "id": "hkdNmpsv9sD6",
        "outputId": "0ed5bbf3-a2fe-4157-aa05-495cbdbec2da"
      },
      "execution_count": 24,
      "outputs": [
        {
          "output_type": "stream",
          "name": "stdout",
          "text": [
            "0\n",
            "1\n"
          ]
        }
      ]
    },
    {
      "cell_type": "code",
      "source": [
        "# for idx in range(BATCH_SIZE):\n",
        "#   cur_tupple = next(iter(inference_datasets))\n",
        "#   cur_inference_dataset = cur_tupple[0]\n",
        "#   file_name = cur_tupple[1][idx]\n",
        "#   print(\"cur_tupple[1]\", cur_tupple[1])\n",
        "#   print(\"file_name\", file_name)\n"
      ],
      "metadata": {
        "id": "qzv65PCxwb4K"
      },
      "execution_count": null,
      "outputs": []
    },
    {
      "cell_type": "code",
      "source": [
        "# inference_dataset.shape"
      ],
      "metadata": {
        "id": "hYBJTpRkq4ua"
      },
      "execution_count": null,
      "outputs": []
    },
    {
      "cell_type": "code",
      "source": [
        "id = 'a2'\n",
        "mode = 'base'\n",
        "version = '3'\n",
        "hub_url = f'https://tfhub.dev/tensorflow/movinet/{id}/{mode}/kinetics-600/classification/{version}'\n",
        "model = hub.load(hub_url)"
      ],
      "metadata": {
        "id": "nIbcn8yOq66G"
      },
      "execution_count": 25,
      "outputs": []
    },
    {
      "cell_type": "code",
      "source": [
        "labels_path = tf.keras.utils.get_file(\n",
        "    fname='labels.txt',\n",
        "    origin='https://raw.githubusercontent.com/tensorflow/models/f8af2291cced43fc9f1d9b41ddbf772ae7b0d7d2/official/projects/movinet/files/kinetics_600_labels.txt'\n",
        ")\n",
        "labels_path = pathlib.Path(labels_path)\n",
        "\n",
        "lines = labels_path.read_text().splitlines()\n",
        "KINETICS_600_LABELS = np.array([line.strip() for line in lines])\n",
        "KINETICS_600_LABELS[:20]"
      ],
      "metadata": {
        "colab": {
          "base_uri": "https://localhost:8080/"
        },
        "id": "8pN_3S8Oryrt",
        "outputId": "514c5311-c0a8-4233-f0cc-f1f4068e8aff"
      },
      "execution_count": 26,
      "outputs": [
        {
          "output_type": "stream",
          "name": "stdout",
          "text": [
            "Downloading data from https://raw.githubusercontent.com/tensorflow/models/f8af2291cced43fc9f1d9b41ddbf772ae7b0d7d2/official/projects/movinet/files/kinetics_600_labels.txt\n",
            "9209/9209 [==============================] - 0s 0us/step\n"
          ]
        },
        {
          "output_type": "execute_result",
          "data": {
            "text/plain": [
              "array(['abseiling', 'acting in play', 'adjusting glasses', 'air drumming',\n",
              "       'alligator wrestling', 'answering questions', 'applauding',\n",
              "       'applying cream', 'archaeological excavation', 'archery',\n",
              "       'arguing', 'arm wrestling', 'arranging flowers',\n",
              "       'assembling bicycle', 'assembling computer',\n",
              "       'attending conference', 'auctioning', 'backflip (human)',\n",
              "       'baking cookies', 'bandaging'], dtype='<U49')"
            ]
          },
          "metadata": {},
          "execution_count": 26
        }
      ]
    },
    {
      "cell_type": "code",
      "source": [
        "# print(KINETICS_600_LABELS)"
      ],
      "metadata": {
        "id": "xyTvWIpe0GQs"
      },
      "execution_count": null,
      "outputs": []
    },
    {
      "cell_type": "code",
      "source": [
        "sig = model.signatures['serving_default']\n",
        "print(sig.pretty_printed_signature())"
      ],
      "metadata": {
        "colab": {
          "base_uri": "https://localhost:8080/"
        },
        "id": "3c92kRITq8cO",
        "outputId": "7b2051fd-5807-4813-8501-4b2898ea3b14"
      },
      "execution_count": 27,
      "outputs": [
        {
          "output_type": "stream",
          "name": "stdout",
          "text": [
            "signature_wrapper(*, image)\n",
            "  Args:\n",
            "    image: float32 Tensor, shape=(None, None, None, None, 3)\n",
            "  Returns:\n",
            "    {'classifier_head': <1>}\n",
            "      <1>: float32 Tensor, shape=(None, 600)\n"
          ]
        }
      ]
    },
    {
      "cell_type": "code",
      "source": [
        "sig(image = sample_inference_dataset[0])"
      ],
      "metadata": {
        "colab": {
          "base_uri": "https://localhost:8080/"
        },
        "id": "sqlMlUlDRpef",
        "outputId": "0936dd1c-3ddd-4225-b486-c5bfc1498e9f"
      },
      "execution_count": 28,
      "outputs": [
        {
          "output_type": "execute_result",
          "data": {
            "text/plain": [
              "{'classifier_head': <tf.Tensor: shape=(2, 600), dtype=float32, numpy=\n",
              " array([[-0.50507224,  0.19461715,  0.66370386, ...,  0.25059167,\n",
              "          2.361664  ,  0.3417308 ],\n",
              "        [-2.2712166 , -0.424963  ,  0.05532325, ...,  1.2339801 ,\n",
              "         -1.7564478 ,  0.8318926 ]], dtype=float32)>}"
            ]
          },
          "metadata": {},
          "execution_count": 28
        }
      ]
    },
    {
      "cell_type": "code",
      "source": [
        "print(sample_inference_dataset[0].shape)"
      ],
      "metadata": {
        "colab": {
          "base_uri": "https://localhost:8080/"
        },
        "id": "UGWJc96y7vWU",
        "outputId": "e6f7f109-9206-42a3-a55a-1b47bb3d63a2"
      },
      "execution_count": 29,
      "outputs": [
        {
          "output_type": "stream",
          "name": "stdout",
          "text": [
            "(2, 20, 224, 224, 3)\n"
          ]
        }
      ]
    },
    {
      "cell_type": "code",
      "source": [
        "%%time\n",
        "logits = sig(image=sample_inference_dataset[0])\n",
        "logits = logits['classifier_head'][0]\n",
        "print(logits.shape)\n",
        "print()"
      ],
      "metadata": {
        "colab": {
          "base_uri": "https://localhost:8080/"
        },
        "id": "8Ic-fvcwrAmd",
        "outputId": "5c7ef891-1656-46e3-c757-215c1936d452"
      },
      "execution_count": 30,
      "outputs": [
        {
          "output_type": "stream",
          "name": "stdout",
          "text": [
            "(600,)\n",
            "\n",
            "CPU times: user 1min 57s, sys: 756 ms, total: 1min 58s\n",
            "Wall time: 1min 19s\n"
          ]
        }
      ]
    },
    {
      "cell_type": "code",
      "source": [
        "#@title\n",
        "# Get top_k labels and probabilities\n",
        "def get_top_k(probs, k=5, label_map=KINETICS_600_LABELS, capture_output=False):\n",
        "  \"\"\"Outputs the top k model labels and probabilities on the given video.\n",
        "\n",
        "  Args:\n",
        "    probs: probability tensor of shape (num_frames, num_classes) that represents\n",
        "      the probability of each class on each frame.\n",
        "    k: the number of top predictions to select.\n",
        "    label_map: a list of labels to map logit indices to label strings.\n",
        "\n",
        "  Returns:\n",
        "    a tuple of the top-k labels and probabilities.\n",
        "  \"\"\"\n",
        "  # Sort predictions to find top_k\n",
        "  top_predictions = tf.argsort(probs, axis=-1, direction='DESCENDING')[:k]\n",
        "  # collect the labels of top_k predictions\n",
        "  top_labels = tf.gather(label_map, top_predictions, axis=-1)\n",
        "  # decode lablels\n",
        "  top_labels = [label.decode('utf8') for label in top_labels.numpy()]\n",
        "  # top_k probabilities of the predictions\n",
        "  top_probs = tf.gather(probs, top_predictions, axis=-1).numpy()\n",
        "  # if capture_output == True:\n",
        "  #   yield tuple(zip(top_labels, top_probs))\n",
        "\n",
        "  # else:\n",
        "  yield tuple(zip(top_labels, top_probs))\n"
      ],
      "metadata": {
        "id": "5z51HoCWrUua"
      },
      "execution_count": 31,
      "outputs": []
    },
    {
      "cell_type": "code",
      "source": [
        "for idx in range(len(sample_inference_dataset[0])):\n",
        "  if idx > 2:\n",
        "    break\n",
        "  file_name = sample_inference_dataset[1][idx]\n",
        "  cur_inference_dataset = sample_inference_dataset[0][idx]\n",
        "  cur_inference_dataset = cur_inference_dataset[tf.newaxis, ...]\n",
        "  logits = sig(image=cur_inference_dataset)\n",
        "  logits = logits['classifier_head'][0]\n",
        "  probs = tf.nn.softmax(logits, axis=-1)\n",
        "  top_k_labels = get_top_k(probs)\n",
        "  print(top_k_labels)\n",
        "  # file_name = cur_tupple[1][idx]\n",
        "  # print(\"cur_tupple[1]\", cur_tupple[1])\n",
        "  print(\"file_name\", file_name)"
      ],
      "metadata": {
        "colab": {
          "base_uri": "https://localhost:8080/"
        },
        "id": "H_irBHxt6Oiz",
        "outputId": "af299e14-cb83-41f0-f1ad-c658bedb67ca"
      },
      "execution_count": 32,
      "outputs": [
        {
          "output_type": "stream",
          "name": "stdout",
          "text": [
            "<generator object get_top_k at 0x7ecfe467fe60>\n",
            "file_name tf.Tensor(b'1.webm', shape=(), dtype=string)\n",
            "<generator object get_top_k at 0x7ecfe785c900>\n",
            "file_name tf.Tensor(b'2.webm', shape=(), dtype=string)\n"
          ]
        }
      ]
    },
    {
      "cell_type": "code",
      "source": [
        "probs = tf.nn.softmax(logits, axis=-1)\n",
        "top_k_labels = list(get_top_k(probs))\n",
        "print(top_k_labels)\n",
        "close_labels = {}\n",
        "for idx, lab_conf in enumerate(top_k_labels):\n",
        "  # print(lab_conf[1]-1)\n",
        "  if idx == 0:\n",
        "    close_labels[f'{lab_conf[0]}'] = lab_conf[1]\n",
        "  else:\n",
        "    close_labels_keys = list(close_labels.keys())\n",
        "    best_class = close_labels_keys[0]\n",
        "    # print(type(float(close_labels[best_class])), type(float(lab_conf[1])))\n",
        "    print(close_labels[best_class]-lab_conf[1])\n",
        "    # if close_labels[best_class] - lab_conf[1] > 0.4:\n",
        "    #   print('yes')\n",
        "  # print(best_class)\n",
        "\n",
        "print(close_labels)\n",
        "# for label, p in get_top_k(probs):\n",
        "\n",
        "#   print(f'{label:20s}: {p:.3f}')"
      ],
      "metadata": {
        "colab": {
          "base_uri": "https://localhost:8080/"
        },
        "id": "shtGw7jDvbzc",
        "outputId": "054609b6-d571-4307-d14c-b2cc3c8fe26c"
      },
      "execution_count": 33,
      "outputs": [
        {
          "output_type": "stream",
          "name": "stdout",
          "text": [
            "[(('shuffling feet', 0.7110261), ('jumpstyle dancing', 0.22299384), ('jogging', 0.013496712), ('breakdancing', 0.0029309513), ('walking through snow', 0.0026067437))]\n",
            "{\"('shuffling feet', 0.7110261)\": ('jumpstyle dancing', 0.22299384)}\n"
          ]
        }
      ]
    },
    {
      "cell_type": "markdown",
      "source": [
        "#Stream version of the model"
      ],
      "metadata": {
        "id": "6kttxZ01WoDA"
      }
    },
    {
      "cell_type": "code",
      "source": [
        "%%time\n",
        "id = 'a2'\n",
        "mode = 'stream'\n",
        "version = '3'\n",
        "hub_url = f'https://tfhub.dev/tensorflow/movinet/{id}/{mode}/kinetics-600/classification/{version}'\n",
        "model = hub.load(hub_url)"
      ],
      "metadata": {
        "colab": {
          "base_uri": "https://localhost:8080/"
        },
        "id": "ioAy8rkpz71C",
        "outputId": "d878e8c2-a9a2-4ccb-df30-2ded0d633f3b"
      },
      "execution_count": 35,
      "outputs": [
        {
          "output_type": "stream",
          "name": "stdout",
          "text": [
            "CPU times: user 55.9 s, sys: 2.51 s, total: 58.4 s\n",
            "Wall time: 58.6 s\n"
          ]
        }
      ]
    },
    {
      "cell_type": "code",
      "source": [
        "list(model.signatures.keys())"
      ],
      "metadata": {
        "colab": {
          "base_uri": "https://localhost:8080/"
        },
        "id": "mh7qfRFC0IJc",
        "outputId": "c07d14b6-a206-4d13-a764-8a4f49e64cdf"
      },
      "execution_count": 36,
      "outputs": [
        {
          "output_type": "execute_result",
          "data": {
            "text/plain": [
              "['call', 'init_states']"
            ]
          },
          "metadata": {},
          "execution_count": 36
        }
      ]
    },
    {
      "cell_type": "code",
      "source": [
        "lines = model.signatures['init_states'].pretty_printed_signature().splitlines()\n",
        "lines = lines[:10]\n",
        "lines.append('      ...')\n",
        "print('.\\n'.join(lines))"
      ],
      "metadata": {
        "colab": {
          "base_uri": "https://localhost:8080/"
        },
        "id": "4k-OmcTI1siH",
        "outputId": "312bd304-6a90-4959-fc1a-742592fc46b0"
      },
      "execution_count": 37,
      "outputs": [
        {
          "output_type": "stream",
          "name": "stdout",
          "text": [
            "signature_wrapper(*, input_shape).\n",
            "  Args:.\n",
            "    input_shape: int32 Tensor, shape=(5,).\n",
            "  Returns:.\n",
            "    {'state/b0/l0/pool_buffer': <1>, 'state/b0/l0/pool_frame_count': <2>, 'state/b0/l1/pool_buffer': <3>, 'state/b0/l1/pool_frame_count': <4>, 'state/b0/l1/stream_buffer': <5>, 'state/b0/l2/pool_buffer': <6>, 'state/b0/l2/pool_frame_count': <7>, 'state/b0/l2/stream_buffer': <8>, 'state/b1/l0/pool_buffer': <9>, 'state/b1/l0/pool_frame_count': <10>, 'state/b1/l0/stream_buffer': <11>, 'state/b1/l1/pool_buffer': <12>, 'state/b1/l1/pool_frame_count': <13>, 'state/b1/l1/stream_buffer': <14>, 'state/b1/l2/pool_buffer': <15>, 'state/b1/l2/pool_frame_count': <16>, 'state/b1/l2/stream_buffer': <17>, 'state/b1/l3/pool_buffer': <18>, 'state/b1/l3/pool_frame_count': <19>, 'state/b1/l3/stream_buffer': <20>, 'state/b1/l4/pool_buffer': <21>, 'state/b1/l4/pool_frame_count': <22>, 'state/b1/l4/stream_buffer': <23>, 'state/b2/l0/pool_buffer': <24>, 'state/b2/l0/pool_frame_count': <25>, 'state/b2/l0/stream_buffer': <26>, 'state/b2/l1/pool_buffer': <27>, 'state/b2/l1/pool_frame_count': <28>, 'state/b2/l1/stream_buffer': <29>, 'state/b2/l2/pool_buffer': <30>, 'state/b2/l2/pool_frame_count': <31>, 'state/b2/l2/stream_buffer': <32>, 'state/b2/l3/pool_buffer': <33>, 'state/b2/l3/pool_frame_count': <34>, 'state/b2/l3/stream_buffer': <35>, 'state/b2/l4/pool_buffer': <36>, 'state/b2/l4/pool_frame_count': <37>, 'state/b2/l4/stream_buffer': <38>, 'state/b3/l0/pool_buffer': <39>, 'state/b3/l0/pool_frame_count': <40>, 'state/b3/l0/stream_buffer': <41>, 'state/b3/l1/pool_buffer': <42>, 'state/b3/l1/pool_frame_count': <43>, 'state/b3/l1/stream_buffer': <44>, 'state/b3/l2/pool_buffer': <45>, 'state/b3/l2/pool_frame_count': <46>, 'state/b3/l2/stream_buffer': <47>, 'state/b3/l3/pool_buffer': <48>, 'state/b3/l3/pool_frame_count': <49>, 'state/b3/l3/stream_buffer': <50>, 'state/b3/l4/pool_buffer': <51>, 'state/b3/l4/pool_frame_count': <52>, 'state/b3/l5/pool_buffer': <53>, 'state/b3/l5/pool_frame_count': <54>, 'state/b3/l5/stream_buffer': <55>, 'state/b4/l0/pool_buffer': <56>, 'state/b4/l0/pool_frame_count': <57>, 'state/b4/l0/stream_buffer': <58>, 'state/b4/l1/pool_buffer': <59>, 'state/b4/l1/pool_frame_count': <60>, 'state/b4/l2/pool_buffer': <61>, 'state/b4/l2/pool_frame_count': <62>, 'state/b4/l3/pool_buffer': <63>, 'state/b4/l3/pool_frame_count': <64>, 'state/b4/l4/pool_buffer': <65>, 'state/b4/l4/pool_frame_count': <66>, 'state/b4/l5/pool_buffer': <67>, 'state/b4/l5/pool_frame_count': <68>, 'state/b4/l5/stream_buffer': <69>, 'state/b4/l6/pool_buffer': <70>, 'state/b4/l6/pool_frame_count': <71>, 'state/head/pool_buffer': <72>, 'state/head/pool_frame_count': <73>}.\n",
            "      <1>: float32 Tensor, shape=(None, 1, 1, 1, 40).\n",
            "      <2>: int32 Tensor, shape=(1,).\n",
            "      <3>: float32 Tensor, shape=(None, 1, 1, 1, 40).\n",
            "      <4>: int32 Tensor, shape=(1,).\n",
            "      <5>: float32 Tensor, shape=(None, 2, None, None, 40).\n",
            "      ...\n"
          ]
        }
      ]
    },
    {
      "cell_type": "code",
      "source": [
        "print(sample_inference_dataset[0].shape)\n",
        "initial_state_tensor = sample_inference_dataset[0][0][tf.newaxis, ...] # takes a video file (20,224, 224, 3) and adds a new axis eg (1, 20, 224, 224, 3)\n",
        "print(initial_state_tensor.shape)"
      ],
      "metadata": {
        "colab": {
          "base_uri": "https://localhost:8080/"
        },
        "id": "c5bFB1VF_4WP",
        "outputId": "6d70835e-a553-4110-dbea-93827093429c"
      },
      "execution_count": 38,
      "outputs": [
        {
          "output_type": "stream",
          "name": "stdout",
          "text": [
            "(2, 20, 224, 224, 3)\n",
            "(1, 20, 224, 224, 3)\n"
          ]
        }
      ]
    },
    {
      "cell_type": "code",
      "source": [
        "initial_state = model.init_states(initial_state_tensor.shape)"
      ],
      "metadata": {
        "id": "5gGbYydY1zWb"
      },
      "execution_count": 39,
      "outputs": []
    },
    {
      "cell_type": "code",
      "source": [
        "type(initial_state)"
      ],
      "metadata": {
        "colab": {
          "base_uri": "https://localhost:8080/"
        },
        "id": "0YOc94TM2AV6",
        "outputId": "7569f8da-21b0-4bcc-f055-5c743350d5c8"
      },
      "execution_count": 40,
      "outputs": [
        {
          "output_type": "execute_result",
          "data": {
            "text/plain": [
              "dict"
            ]
          },
          "metadata": {},
          "execution_count": 40
        }
      ]
    },
    {
      "cell_type": "code",
      "source": [
        "list(sorted(initial_state.keys()))[:5]"
      ],
      "metadata": {
        "colab": {
          "base_uri": "https://localhost:8080/"
        },
        "id": "Om67RaU92En6",
        "outputId": "ca69e940-5720-4eaf-e260-659177097f6c"
      },
      "execution_count": 41,
      "outputs": [
        {
          "output_type": "execute_result",
          "data": {
            "text/plain": [
              "['state/b0/l0/pool_buffer',\n",
              " 'state/b0/l0/pool_frame_count',\n",
              " 'state/b0/l1/pool_buffer',\n",
              " 'state/b0/l1/pool_frame_count',\n",
              " 'state/b0/l1/stream_buffer']"
            ]
          },
          "metadata": {},
          "execution_count": 41
        }
      ]
    },
    {
      "cell_type": "code",
      "source": [
        "print(sample_inference_dataset[0][0].shape)"
      ],
      "metadata": {
        "colab": {
          "base_uri": "https://localhost:8080/"
        },
        "id": "weWTqkIKDbkM",
        "outputId": "5f93d574-9155-4449-d5b8-c8ff018f668f"
      },
      "execution_count": 42,
      "outputs": [
        {
          "output_type": "stream",
          "name": "stdout",
          "text": [
            "(20, 224, 224, 3)\n"
          ]
        }
      ]
    },
    {
      "cell_type": "code",
      "source": [
        "inputs = initial_state.copy()\n",
        "inputs['image'] = initial_state_tensor[0:1, ...]"
      ],
      "metadata": {
        "id": "cTvxvPaz2fCC"
      },
      "execution_count": 43,
      "outputs": []
    },
    {
      "cell_type": "code",
      "source": [
        "# warmup\n",
        "model(inputs);"
      ],
      "metadata": {
        "id": "MOpYl8ncc9g8"
      },
      "execution_count": 44,
      "outputs": []
    },
    {
      "cell_type": "code",
      "source": [
        "initial_state = model.init_states(initial_state_tensor.shape)\n",
        "state = initial_state.copy()\n",
        "all_logits =[]\n",
        "# warmup\n",
        "# model(inputs)\n",
        "for idx in range(len(sample_inference_dataset[0])):\n",
        "  if idx > 2:\n",
        "    break\n",
        "  cur_input_tensor = sample_inference_dataset[0][idx]\n",
        "  cur_input_tensor = cur_input_tensor[tf.newaxis]\n",
        "  print(cur_input_tensor.shape)\n",
        "\n",
        "  file_name = sample_inference_dataset[1][idx]\n",
        "\n",
        "  inputs['image'] = cur_input_tensor[0:1, ...]\n",
        "  #add a new axis, select first from from the array of frames, then selet the whole height, width and channel axis\n",
        "  logits, new_state = model(inputs)\n",
        "  logits = logits[0]\n",
        "  probs = tf.nn.softmax(logits, axis=-1)\n",
        "  initial_state = model.init_states(initial_state_tensor.shape)\n",
        "  state = initial_state.copy()\n",
        "  top_k_labels = tuple(get_top_k(probs, capture_output=True))\n",
        "  print(len(top_k_labels[0]))\n",
        "  print(top_k_labels)\n",
        "  string_value = file_name.numpy().decode('utf-8')\n",
        "  all_logits.append((logits, string_value))\n",
        "\n",
        "  print(\"file_name\", string_value)"
      ],
      "metadata": {
        "colab": {
          "base_uri": "https://localhost:8080/"
        },
        "id": "yZ_hri_EWBhT",
        "outputId": "d7f7adcb-bd02-4f9f-9840-60c9b4e3a45e"
      },
      "execution_count": 45,
      "outputs": [
        {
          "output_type": "stream",
          "name": "stdout",
          "text": [
            "(1, 20, 224, 224, 3)\n",
            "5\n",
            "((('paragliding', 0.4702189), ('flying kite', 0.1561818), ('parasailing', 0.1231873), ('kitesurfing', 0.04914223), ('skydiving', 0.033650793)),)\n",
            "file_name 1.webm\n",
            "(1, 20, 224, 224, 3)\n",
            "5\n",
            "((('shuffling feet', 0.40066084), ('jogging', 0.16968915), ('jumpstyle dancing', 0.13156785), ('delivering mail', 0.014214353), ('tap dancing', 0.010723671)),)\n",
            "file_name 2.webm\n"
          ]
        }
      ]
    },
    {
      "cell_type": "code",
      "source": [
        "initial_state = model.init_states(initial_state_tensor.shape)\n",
        "state = initial_state.copy()\n",
        "for idx, logits_filename in enumerate(all_logits):\n",
        "  cur_input_tensor_rnn = sample_inference_dataset[0][idx]\n",
        "\n",
        "  for n in range(len(sample_inference_dataset[0][idx])):\n",
        "      inputs = state\n",
        "\n",
        "\n",
        "      inputs['image'] = cur_input_tensor_rnn[tf.newaxis,n:n+1, ...]\n",
        "      result, state = model(inputs)\n",
        "\n",
        "  probabilities = tf.nn.softmax(logits_filename[0], axis=-1)\n",
        "  top_k_labels = tuple(get_top_k(probabilities))\n",
        "  # string_value = file_name.numpy().decode('utf-8')\n",
        "  print(top_k_labels, logits_filename[1])\n"
      ],
      "metadata": {
        "colab": {
          "base_uri": "https://localhost:8080/"
        },
        "id": "TK0noFKVXaU8",
        "outputId": "bbe6812d-42dc-4a8b-8511-075236874dd1"
      },
      "execution_count": 47,
      "outputs": [
        {
          "output_type": "stream",
          "name": "stdout",
          "text": [
            "((('paragliding', 0.4702189), ('flying kite', 0.1561818), ('parasailing', 0.1231873), ('kitesurfing', 0.04914223), ('skydiving', 0.033650793)),) 1.webm\n",
            "((('shuffling feet', 0.40066084), ('jogging', 0.16968915), ('jumpstyle dancing', 0.13156785), ('delivering mail', 0.014214353), ('tap dancing', 0.010723671)),) 2.webm\n"
          ]
        }
      ]
    },
    {
      "cell_type": "code",
      "source": [
        "for class_conf in top_k_labels:\n",
        "  print(class_conf)"
      ],
      "metadata": {
        "colab": {
          "base_uri": "https://localhost:8080/"
        },
        "id": "H7azTysYOSM7",
        "outputId": "26562ff5-862b-4a39-8a21-86fa7a44d15e"
      },
      "execution_count": 49,
      "outputs": [
        {
          "output_type": "stream",
          "name": "stdout",
          "text": [
            "(('shuffling feet', 0.40066084), ('jogging', 0.16968915), ('jumpstyle dancing', 0.13156785), ('delivering mail', 0.014214353), ('tap dancing', 0.010723671))\n"
          ]
        }
      ]
    },
    {
      "cell_type": "code",
      "source": [
        "# print(top_k_labels)\n",
        "close_labels = {}\n",
        "for idx, lab_conf in enumerate(top_k_labels[0]):\n",
        "  if idx == 0:\n",
        "    close_labels.setdefault(lab_conf[0].replace(' ', '_'), lab_conf[1])\n",
        "  else:\n",
        "    best_class = list(close_labels.keys())[0]\n",
        "    best_class_conf = close_labels[best_class]\n",
        "    cur_class = lab_conf[0].replace(' ', '_')\n",
        "    cur_class_conf = lab_conf[1]\n",
        "    best_class =\n",
        "    if (best_class_conf - cur_class_conf) < 0.2:\n",
        "      close_labels.setdefault(cur_class, cur_class_conf)\n",
        "\n",
        "\n",
        "    print(f\"best_class: {best_class} \\t best_class_conf {best_class_conf} \\t cur_class {cur_class} \\t cur_class_conf {cur_class_conf}\")\n",
        "\n",
        "\n",
        "\n",
        "print(close_labels)"
      ],
      "metadata": {
        "colab": {
          "base_uri": "https://localhost:8080/"
        },
        "id": "Fh9Cs8PGs-_S",
        "outputId": "901491ff-a3b0-461b-f3ab-d6fdc02c31d0"
      },
      "execution_count": null,
      "outputs": [
        {
          "output_type": "stream",
          "name": "stdout",
          "text": [
            "best_class: shuffling_feet \t best_class_conf 0.2532516419887543 \t cur_class jogging \t cur_class_conf 0.2396440953016281\n",
            "best_class: shuffling_feet \t best_class_conf 0.2532516419887543 \t cur_class jumpstyle_dancing \t cur_class_conf 0.11431951820850372\n",
            "best_class: shuffling_feet \t best_class_conf 0.2532516419887543 \t cur_class delivering_mail \t cur_class_conf 0.02315945364534855\n",
            "best_class: shuffling_feet \t best_class_conf 0.2532516419887543 \t cur_class hopscotch \t cur_class_conf 0.01479418482631445\n",
            "{'shuffling_feet': 0.25325164, 'jogging': 0.2396441, 'jumpstyle_dancing': 0.11431952}\n"
          ]
        }
      ]
    },
    {
      "cell_type": "markdown",
      "source": [
        "Generate Embeddings for the senstences and calculate the distancd between the embeddings"
      ],
      "metadata": {
        "id": "1EkIxDz7OjE9"
      }
    },
    {
      "cell_type": "code",
      "source": [
        "!git push -u origin main"
      ],
      "metadata": {
        "colab": {
          "base_uri": "https://localhost:8080/"
        },
        "id": "M2jaFoBJOgI-",
        "outputId": "f9659dfd-a1f6-444b-97c1-eaa529ed4771"
      },
      "execution_count": 59,
      "outputs": [
        {
          "output_type": "stream",
          "name": "stdout",
          "text": [
            "error: src refspec main does not match any\n",
            "\u001b[31merror: failed to push some refs to 'https://github.com/prysykes/trevec.git'\n",
            "\u001b[m"
          ]
        }
      ]
    },
    {
      "cell_type": "code",
      "source": [
        "def check_close_scores(top_k_labels):\n",
        "  close_labels = {}\n",
        "  for idx, lab_conf in enumerate(top_k_labels[0]):\n",
        "    if idx == 0:\n",
        "      close_labels.setdefault(lab_conf[0], lab_conf[1])\n",
        "    else:\n",
        "      best_class = list(close_labels.keys())[0]\n",
        "      best_class_conf = close_labels[best_class]\n",
        "      cur_class = lab_conf[0]\n",
        "      cur_class_conf = lab_conf[1]\n",
        "      if (best_class_conf - cur_class_conf) < 0.2:\n",
        "        close_labels.setdefault(cur_class, cur_class_conf)"
      ],
      "metadata": {
        "id": "5oiz24mpxbdJ"
      },
      "execution_count": null,
      "outputs": []
    },
    {
      "cell_type": "code",
      "source": [
        "from nltk.corpus import wordnet as wn\n",
        "# from nltk.wup import wup_similarity"
      ],
      "metadata": {
        "id": "qV-ss0y12JbL"
      },
      "execution_count": null,
      "outputs": []
    },
    {
      "cell_type": "code",
      "source": [
        "# print(top_k_labels)\n",
        "\n",
        "close_labels = {}\n",
        "for idx, lab_conf in enumerate(top_k_labels[0]):\n",
        "  if idx == 0:\n",
        "    close_labels.setdefault(lab_conf[0], lab_conf[1])\n",
        "  else:\n",
        "    best_class = list(close_labels.keys())[0]\n",
        "    best_class_conf = close_labels[best_class]\n",
        "    cur_class = lab_conf[0]\n",
        "    cur_class_conf = lab_conf[1]\n",
        "\n",
        "    best_class_tokens = best_class.split()\n",
        "    cur_class_tokens = cur_class.split()\n",
        "    # print(f\"best_class_tokens: {best_class_tokens} \\t cur_class_tokens: {cur_class_token}\")\n",
        "\n",
        "    for token1 in best_class_tokens:\n",
        "      max_similairity = 0\n",
        "      for token2 in cur_class_tokens:\n",
        "        print(f\"token1 {token1} \\t token2 {token2}\")\n",
        "        synsets_token1 = list(wn.synsets('mad'))[0]\n",
        "        synsets_token2 = list(wn.synsets('crazy'))[0]\n",
        "        print(synsets_token1, synsets_token2)\n",
        "        similarity = synsets_token1.wup_similarity(synsets_token2)\n",
        "        if similarity > max_similairity:\n",
        "          max_similairity = similarity\n",
        "    print(f\"max_similarity {max_similairity}\")\n",
        "\n",
        "        #compute Wu-Palmer Similarity for each pair of synsets\n",
        "        # for synset1 in synsets_token1:\n",
        "        #   for synset2 in synsets_token2:\n",
        "        #     similarity =\n",
        "\n",
        "    # if ' ' not in best_class:\n",
        "    #   try:\n",
        "    #     #TODO: replace mad with best_class\n",
        "    #     best_class_syn = wn.synsets('jogging')\n",
        "    #     best_class_syn = best_class_syn[0]\n",
        "    #   except Exception as e:\n",
        "    #     print(e)\n",
        "    #   print('yes')\n",
        "    # else:\n",
        "    #   similarity_score = nltk.similarity.cosine_similarity(best_class, cur_class)\n",
        "    #   print(similarity_score)\n",
        "\n",
        "\n",
        "    # if ' ' not in cur_class:\n",
        "    #   #TODO: replace mad with cur_class\n",
        "    #   try:\n",
        "    #     cur_class_syn = wn.synsets('runing')\n",
        "    #     cur_class_syn = cur_class_syn[0]\n",
        "    #   except Exception as e:\n",
        "    #     print(e)\n",
        "    #   print('yes')\n",
        "\n",
        "    # else:\n",
        "    #   pass\n",
        "\n",
        "    # print(best_class_syn.wup_similarity(cur_class_syn))\n",
        "\n",
        "\n",
        "    # try:\n",
        "    #   best_class_syn = wn.synsets('mad')\n",
        "    #   cur_class_syn = wn.synsets('mad')\n",
        "\n",
        "    #   best_class_syn = best_class_syn[0]\n",
        "    #   cur_class_syn = cur_class_syn[0]\n",
        "    #   print(best_class_syn.wup_similarity(cur_class_syn))\n",
        "    #   # print(best_class_syn, cur_class_syn)\n",
        "    # except Exception as e:\n",
        "    #   print(e)\n",
        "    # # print(best_class_syn.wup_)\n",
        "\n",
        "\n",
        "\n",
        "\n",
        "# print(close_labels)"
      ],
      "metadata": {
        "colab": {
          "base_uri": "https://localhost:8080/"
        },
        "id": "EFGAKkeo2dxU",
        "outputId": "d5d44837-fa21-4ea8-fc95-53f00eeb7483"
      },
      "execution_count": null,
      "outputs": [
        {
          "output_type": "stream",
          "name": "stdout",
          "text": [
            "token1 shuffling \t token2 jogging\n",
            "Synset('huffy.s.02') Synset('crazy.n.01')\n",
            "token1 feet \t token2 jogging\n",
            "Synset('huffy.s.02') Synset('crazy.n.01')\n",
            "max_similarity 0.16666666666666666\n",
            "token1 shuffling \t token2 jumpstyle\n",
            "Synset('huffy.s.02') Synset('crazy.n.01')\n",
            "token1 shuffling \t token2 dancing\n",
            "Synset('huffy.s.02') Synset('crazy.n.01')\n",
            "token1 feet \t token2 jumpstyle\n",
            "Synset('huffy.s.02') Synset('crazy.n.01')\n",
            "token1 feet \t token2 dancing\n",
            "Synset('huffy.s.02') Synset('crazy.n.01')\n",
            "max_similarity 0.16666666666666666\n",
            "token1 shuffling \t token2 delivering\n",
            "Synset('huffy.s.02') Synset('crazy.n.01')\n",
            "token1 shuffling \t token2 mail\n",
            "Synset('huffy.s.02') Synset('crazy.n.01')\n",
            "token1 feet \t token2 delivering\n",
            "Synset('huffy.s.02') Synset('crazy.n.01')\n",
            "token1 feet \t token2 mail\n",
            "Synset('huffy.s.02') Synset('crazy.n.01')\n",
            "max_similarity 0.16666666666666666\n",
            "token1 shuffling \t token2 hopscotch\n",
            "Synset('huffy.s.02') Synset('crazy.n.01')\n",
            "token1 feet \t token2 hopscotch\n",
            "Synset('huffy.s.02') Synset('crazy.n.01')\n",
            "max_similarity 0.16666666666666666\n"
          ]
        }
      ]
    },
    {
      "cell_type": "code",
      "source": [
        "for label, p in get_top_k(probabilities[-1]):\n",
        "  print(f'{label:20s}: {p:.3f}')"
      ],
      "metadata": {
        "colab": {
          "base_uri": "https://localhost:8080/"
        },
        "id": "Xb9X3BBL3mHW",
        "outputId": "cae19728-194b-47e6-92fd-518920638973"
      },
      "execution_count": null,
      "outputs": [
        {
          "output_type": "stream",
          "name": "stdout",
          "text": [
            "slacklining         : 0.868\n",
            "golf chipping       : 0.024\n",
            "golf driving        : 0.012\n",
            "tightrope walking   : 0.004\n",
            "tiptoeing           : 0.003\n"
          ]
        }
      ]
    },
    {
      "cell_type": "code",
      "source": [
        "id = tf.argmax(probabilities[-1])\n",
        "plt.plot(probabilities[:, id])\n",
        "plt.xlabel('Frame #')\n",
        "plt.ylabel(f\"p('{KINETICS_600_LABELS[id]}')\");"
      ],
      "metadata": {
        "colab": {
          "base_uri": "https://localhost:8080/",
          "height": 449
        },
        "id": "wsF6nYdS3skT",
        "outputId": "c054262a-5c51-4f1b-927d-90d1e7fe7551"
      },
      "execution_count": null,
      "outputs": [
        {
          "output_type": "display_data",
          "data": {
            "text/plain": [
              "<Figure size 640x480 with 1 Axes>"
            ],
            "image/png": "[encoded data removed]"
          },
          "metadata": {}
        }
      ]
    },
    {
      "cell_type": "code",
      "source": [
        "for label, p in get_top_k(tf.reduce_mean(probabilities, axis=0)):\n",
        "  print(f'{label:20s}: {p:.3f}')"
      ],
      "metadata": {
        "colab": {
          "base_uri": "https://localhost:8080/"
        },
        "id": "XgFrtFwK3x7U",
        "outputId": "15f2a734-8524-411d-9454-9b6491a34211"
      },
      "execution_count": null,
      "outputs": [
        {
          "output_type": "stream",
          "name": "stdout",
          "text": [
            "golf chipping       : 0.358\n",
            "mowing lawn         : 0.128\n",
            "slacklining         : 0.091\n",
            "golf driving        : 0.090\n",
            "golf putting        : 0.075\n"
          ]
        }
      ]
    },
    {
      "cell_type": "markdown",
      "source": [
        "++++++++++++++++++++++=================="
      ],
      "metadata": {
        "id": "czHJcZBM11KQ"
      }
    },
    {
      "cell_type": "code",
      "source": [
        "probs = tf.nn.softmax(logits, axis=-1)\n",
        "for label, p in get_top_k(probs):\n",
        "  print(f'{label:20s}: {p:.3f}')"
      ],
      "metadata": {
        "colab": {
          "base_uri": "https://localhost:8080/"
        },
        "id": "tjjN-6fSr5rC",
        "outputId": "e729073a-5482-46d8-f648-ca1f1d573505"
      },
      "execution_count": null,
      "outputs": [
        {
          "output_type": "stream",
          "name": "stdout",
          "text": [
            "photobombing        : 0.256\n",
            "waving hand         : 0.233\n",
            "sign language interpreting: 0.043\n",
            "shaving head        : 0.041\n",
            "stretching arm      : 0.025\n"
          ]
        }
      ]
    },
    {
      "cell_type": "markdown",
      "source": [
        "photobombing        : 0.256\n",
        "waving hand         : 0.233\n",
        "sign language interpreting: 0.043\n",
        "shaving head        : 0.041\n",
        "stretching arm      : 0.025    #for frame size 20"
      ],
      "metadata": {
        "id": "iVvrd3YWsqZi"
      }
    },
    {
      "cell_type": "code",
      "source": [
        "probs = tf.nn.softmax(logits, axis=-1)\n",
        "for label, p in get_top_k(probs):\n",
        "  print(f'{label:20s}: {p:.3f}')"
      ],
      "metadata": {
        "colab": {
          "base_uri": "https://localhost:8080/"
        },
        "id": "0xt0bJ5OsiY6",
        "outputId": "beabe869-d98b-4cbc-f623-dc1befbeb0d8"
      },
      "execution_count": null,
      "outputs": [
        {
          "output_type": "stream",
          "name": "stdout",
          "text": [
            "waving hand         : 0.279\n",
            "photobombing        : 0.178\n",
            "shaving head        : 0.045\n",
            "cleaning windows    : 0.043\n",
            "playing darts       : 0.023\n"
          ]
        }
      ]
    },
    {
      "cell_type": "code",
      "source": [
        "probs = tf.nn.softmax(logits, axis=-1)\n",
        "for label, p in get_top_k(probs):\n",
        "  print(f'{label:20s}: {p:.3f}')"
      ],
      "metadata": {
        "colab": {
          "base_uri": "https://localhost:8080/"
        },
        "id": "pLXzw8pmtJ3h",
        "outputId": "817670ea-d335-4225-e165-3780519bdafc"
      },
      "execution_count": null,
      "outputs": [
        {
          "output_type": "stream",
          "name": "stdout",
          "text": [
            "waving hand         : 0.354\n",
            "photobombing        : 0.283\n",
            "shaving head        : 0.025\n",
            "sign language interpreting: 0.020\n",
            "stretching arm      : 0.018\n"
          ]
        }
      ]
    },
    {
      "cell_type": "markdown",
      "source": [
        "waving hand         : 0.279\n",
        "photobombing        : 0.178\n",
        "shaving head        : 0.045\n",
        "cleaning windows    : 0.043\n",
        "playing darts       : 0.023   # for frame size 10"
      ],
      "metadata": {
        "id": "StW5Fm4Hsvbb"
      }
    }
  ]
}